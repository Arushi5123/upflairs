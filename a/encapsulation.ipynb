{
 "cells": [
  {
   "cell_type": "code",
   "execution_count": 23,
   "metadata": {},
   "outputs": [],
   "source": [
    "class Manager:\n",
    "    def __init__(self):\n",
    "        #these are protected variable\n",
    "        # self._manager_name=\"Dharampal singh\"#not parameterized hard coded\n",
    "        # self._manager_id=\"hello@gmail.com\"\n",
    "        # self._manager_password=\"kumar@786\"\n",
    "        \n",
    "        self.__manager_name=\"Dharampal singh\"#not parameterized hard coded\n",
    "        self.__manager_id=\"hello@gmail.com\"\n",
    "        self.__manager_password=\"kumar@786\"\n",
    "        \n",
    "        self.employee_name=\"vikash kumavat\"\n",
    "        self.employee_id=\"vikash@gmail.com\"\n",
    "        self.employee_password=\"kumawat@123\"\n",
    "        print(\"Manager constructor executed\")\n",
    "       \n",
    "        \n",
    "    def _Manager_hi(self):\n",
    "        print(self.manager_name)\n",
    "        print(self.manager_id)\n",
    "        print(self.manager_password)\n",
    "    \n",
    "class Employee(Manager):\n",
    "    \n",
    "    def Employee_hi():\n",
    "        pass"
   ]
  },
  {
   "cell_type": "code",
   "execution_count": 24,
   "metadata": {},
   "outputs": [
    {
     "name": "stdout",
     "output_type": "stream",
     "text": [
      "Manager constructor executed\n",
      "Manager constructor executed\n"
     ]
    }
   ],
   "source": [
    "emp_obj=Employee()\n",
    "mangr_obj=Manager()"
   ]
  },
  {
   "cell_type": "code",
   "execution_count": 25,
   "metadata": {},
   "outputs": [
    {
     "ename": "AttributeError",
     "evalue": "'Manager' object has no attribute '__manager_name'",
     "output_type": "error",
     "traceback": [
      "\u001b[1;31m---------------------------------------------------------------------------\u001b[0m",
      "\u001b[1;31mAttributeError\u001b[0m                            Traceback (most recent call last)",
      "Cell \u001b[1;32mIn[25], line 1\u001b[0m\n\u001b[1;32m----> 1\u001b[0m \u001b[43mmangr_obj\u001b[49m\u001b[38;5;241;43m.\u001b[39;49m\u001b[43m__manager_name\u001b[49m\u001b[38;5;66;03m#outside the class\u001b[39;00m\n",
      "\u001b[1;31mAttributeError\u001b[0m: 'Manager' object has no attribute '__manager_name'"
     ]
    }
   ],
   "source": [
    "mangr_obj.__manager_name#outside the class"
   ]
  },
  {
   "cell_type": "code",
   "execution_count": 26,
   "metadata": {},
   "outputs": [
    {
     "ename": "AttributeError",
     "evalue": "'Employee' object has no attribute '_manager_password'",
     "output_type": "error",
     "traceback": [
      "\u001b[1;31m---------------------------------------------------------------------------\u001b[0m",
      "\u001b[1;31mAttributeError\u001b[0m                            Traceback (most recent call last)",
      "Cell \u001b[1;32mIn[26], line 1\u001b[0m\n\u001b[1;32m----> 1\u001b[0m \u001b[43memp_obj\u001b[49m\u001b[38;5;241;43m.\u001b[39;49m\u001b[43m_manager_password\u001b[49m\n",
      "\u001b[1;31mAttributeError\u001b[0m: 'Employee' object has no attribute '_manager_password'"
     ]
    }
   ],
   "source": [
    "emp_obj._manager_password"
   ]
  },
  {
   "cell_type": "code",
   "execution_count": 27,
   "metadata": {},
   "outputs": [
    {
     "data": {
      "text/plain": [
       "{'_Manager__manager_name': 'Dharampal singh',\n",
       " '_Manager__manager_id': 'hello@gmail.com',\n",
       " '_Manager__manager_password': 'kumar@786',\n",
       " 'employee_name': 'vikash kumavat',\n",
       " 'employee_id': 'vikash@gmail.com',\n",
       " 'employee_password': 'kumawat@123'}"
      ]
     },
     "execution_count": 27,
     "metadata": {},
     "output_type": "execute_result"
    }
   ],
   "source": [
    "mangr_obj.__dict__\n",
    "# Name mangling"
   ]
  },
  {
   "cell_type": "code",
   "execution_count": 29,
   "metadata": {},
   "outputs": [
    {
     "data": {
      "text/plain": [
       "'kumar@786'"
      ]
     },
     "execution_count": 29,
     "metadata": {},
     "output_type": "execute_result"
    }
   ],
   "source": [
    "emp_obj."
   ]
  },
  {
   "cell_type": "code",
   "execution_count": null,
   "metadata": {},
   "outputs": [],
   "source": [
    "ls=[10,20,50,60]"
   ]
  },
  {
   "cell_type": "code",
   "execution_count": 31,
   "metadata": {},
   "outputs": [],
   "source": [
    "from abc import ABC,abstractmethod\n",
    "class Manager(ABC):\n",
    "    @abstractmethod\n",
    "    def display(self):\n",
    "        ...#alternative of pass keyword\n",
    "        \n",
    "      \n",
    "    "
   ]
  },
  {
   "cell_type": "code",
   "execution_count": 32,
   "metadata": {},
   "outputs": [
    {
     "ename": "TypeError",
     "evalue": "Can't instantiate abstract class Manager with abstract method display",
     "output_type": "error",
     "traceback": [
      "\u001b[1;31m---------------------------------------------------------------------------\u001b[0m",
      "\u001b[1;31mTypeError\u001b[0m                                 Traceback (most recent call last)",
      "Cell \u001b[1;32mIn[32], line 1\u001b[0m\n\u001b[1;32m----> 1\u001b[0m obj\u001b[38;5;241m=\u001b[39m\u001b[43mManager\u001b[49m\u001b[43m(\u001b[49m\u001b[43m)\u001b[49m\n",
      "\u001b[1;31mTypeError\u001b[0m: Can't instantiate abstract class Manager with abstract method display"
     ]
    }
   ],
   "source": [
    "obj=Manager()"
   ]
  },
  {
   "cell_type": "code",
   "execution_count": 34,
   "metadata": {},
   "outputs": [],
   "source": [
    "class Employee(Manager):\n",
    "    def display(self):\n",
    "        print('hi i am extractednmethod')"
   ]
  },
  {
   "cell_type": "code",
   "execution_count": 35,
   "metadata": {},
   "outputs": [],
   "source": [
    "emp_obj=Employee()"
   ]
  },
  {
   "cell_type": "code",
   "execution_count": 36,
   "metadata": {},
   "outputs": [
    {
     "name": "stdout",
     "output_type": "stream",
     "text": [
      "hi i am extractednmethod\n"
     ]
    }
   ],
   "source": [
    "emp_obj.display()"
   ]
  },
  {
   "cell_type": "code",
   "execution_count": null,
   "metadata": {},
   "outputs": [],
   "source": [
    "#polymorphism"
   ]
  }
 ],
 "metadata": {
  "kernelspec": {
   "display_name": "Python 3",
   "language": "python",
   "name": "python3"
  },
  "language_info": {
   "codemirror_mode": {
    "name": "ipython",
    "version": 3
   },
   "file_extension": ".py",
   "mimetype": "text/x-python",
   "name": "python",
   "nbconvert_exporter": "python",
   "pygments_lexer": "ipython3",
   "version": "3.11.9"
  }
 },
 "nbformat": 4,
 "nbformat_minor": 2
}
