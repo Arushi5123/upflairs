{
 "cells": [
  {
   "cell_type": "code",
   "execution_count": 6,
   "metadata": {},
   "outputs": [],
   "source": [
    "class Student:\n",
    "    name=['Rahul Kumar','Dhakad','nitin']\n",
    "    branch='computer science'\n",
    "    COLLEGE='IET Lucknow'\n",
    "\n",
    "    "
   ]
  },
  {
   "cell_type": "code",
   "execution_count": 7,
   "metadata": {},
   "outputs": [
    {
     "data": {
      "text/plain": [
       "['Rahul Kumar', 'Dhakad', 'nitin']"
      ]
     },
     "execution_count": 7,
     "metadata": {},
     "output_type": "execute_result"
    }
   ],
   "source": [
    "stu_obj= Student()\n",
    "stu_obj.name"
   ]
  },
  {
   "cell_type": "code",
   "execution_count": 8,
   "metadata": {},
   "outputs": [],
   "source": [
    "stu_obj.branch=\"information technology\""
   ]
  },
  {
   "cell_type": "code",
   "execution_count": 9,
   "metadata": {},
   "outputs": [
    {
     "data": {
      "text/plain": [
       "'information technology'"
      ]
     },
     "execution_count": 9,
     "metadata": {},
     "output_type": "execute_result"
    }
   ],
   "source": [
    "stu_obj.branch"
   ]
  },
  {
   "cell_type": "code",
   "execution_count": 10,
   "metadata": {},
   "outputs": [],
   "source": [
    "stu_obj.college='gweca'"
   ]
  },
  {
   "cell_type": "code",
   "execution_count": 11,
   "metadata": {},
   "outputs": [
    {
     "data": {
      "text/plain": [
       "'gweca'"
      ]
     },
     "execution_count": 11,
     "metadata": {},
     "output_type": "execute_result"
    }
   ],
   "source": [
    "stu_obj.college"
   ]
  },
  {
   "cell_type": "code",
   "execution_count": 54,
   "metadata": {},
   "outputs": [],
   "source": [
    "class ListFunction:\n",
    "    ls= [25,41,63,85,74,96,112,113,117,75,963,42,14,52,77,88,55,66,33,22,11,44,55,88,99,66,74,52,1]\n",
    "    def counti(self):\n",
    "     count=0\n",
    "     for i in self.ls:\n",
    "         count+=1\n",
    "     print(count)\n",
    "    ls = [25,41,63,85,74,96,112,113,117,75,963,42,14,52,77,88,55,66,33,22,11,44,55,88,99,66,74,52,1]\n",
    "    def average_finder(self):\n",
    "      sum=0\n",
    "      count=0\n",
    "      for i in self.ls:\n",
    "       if i>=50 and i<=100 and i%2==0:\n",
    "         sum+=i\n",
    "         count+=1\n",
    "      avg=sum/count\n",
    "      print(avg )\n",
    "    def ave(self):\n",
    "      for i in range(50,101):\n",
    "        sum=0\n",
    "        count=0\n",
    "        if i%2==0:\n",
    "         sum+=i\n",
    "         count+=1\n",
    "         avg=sum/count\n",
    "      print(avg)\n",
    "          \n",
    "          "
   ]
  },
  {
   "cell_type": "code",
   "execution_count": 55,
   "metadata": {},
   "outputs": [],
   "source": [
    "sobj= ListFunction()\n"
   ]
  },
  {
   "cell_type": "code",
   "execution_count": 56,
   "metadata": {},
   "outputs": [
    {
     "name": "stdout",
     "output_type": "stream",
     "text": [
      "72.88888888888889\n"
     ]
    }
   ],
   "source": [
    "sobj.average_finder()"
   ]
  },
  {
   "cell_type": "code",
   "execution_count": 57,
   "metadata": {},
   "outputs": [
    {
     "name": "stdout",
     "output_type": "stream",
     "text": [
      "72.88888888888889\n"
     ]
    }
   ],
   "source": [
    "sobj.average_finder()"
   ]
  },
  {
   "cell_type": "code",
   "execution_count": 61,
   "metadata": {},
   "outputs": [],
   "source": [
    "class Student:\n",
    "    # name='Rahul Kumar'\n",
    "    def __init__(self,name,student_branch,student_college):\n",
    "        self.student_name= name \n",
    "        self.branch= student_branch\n",
    "        self.college= student_college\n",
    "        print(\"I am executed\")\n",
    "        "
   ]
  },
  {
   "cell_type": "code",
   "execution_count": 62,
   "metadata": {},
   "outputs": [
    {
     "name": "stdout",
     "output_type": "stream",
     "text": [
      "I am executed\n",
      "I am executed\n"
     ]
    }
   ],
   "source": [
    "obj= Student(name='Rahul Kumar',student_branch=\"cse\",student_college=\"iet lucknow\")\n",
    "myobj=Student(name='Arushi Mathur',student_branch=\"cse\",student_college=\"gweca\")"
   ]
  },
  {
   "cell_type": "code",
   "execution_count": 63,
   "metadata": {},
   "outputs": [
    {
     "data": {
      "text/plain": [
       "'Arushi Mathur'"
      ]
     },
     "execution_count": 63,
     "metadata": {},
     "output_type": "execute_result"
    }
   ],
   "source": [
    "myobj.student_name\n"
   ]
  },
  {
   "cell_type": "code",
   "execution_count": 28,
   "metadata": {},
   "outputs": [
    {
     "data": {
      "text/plain": [
       "'cse'"
      ]
     },
     "execution_count": 28,
     "metadata": {},
     "output_type": "execute_result"
    }
   ],
   "source": [
    "myobj.branch"
   ]
  },
  {
   "cell_type": "code",
   "execution_count": 29,
   "metadata": {},
   "outputs": [
    {
     "data": {
      "text/plain": [
       "'gweca'"
      ]
     },
     "execution_count": 29,
     "metadata": {},
     "output_type": "execute_result"
    }
   ],
   "source": [
    "myobj.college"
   ]
  },
  {
   "cell_type": "code",
   "execution_count": 9,
   "metadata": {},
   "outputs": [],
   "source": [
    "class Faculty:\n",
    "    Faculty_course=\"Computer science\"\n",
    "    def __init__(self,subject,teacher_name,student_name):\n",
    "        self.Faculty_subject=subject\n",
    "        self.Faculty_teacher_name=teacher_name\n",
    "        self.Faculty_student_name=student_name\n",
    "    def show_data(self):\n",
    "        print(self.Faculty_subject)\n",
    "        print(self.Faculty_teacher_name)\n",
    "        print(self.Faculty_student_name)"
   ]
  },
  {
   "cell_type": "code",
   "execution_count": 10,
   "metadata": {},
   "outputs": [],
   "source": [
    "myobj=Faculty(subject=\"Java\",teacher_name=\"Ranjit Singh\",student_name=\"Arushi Mathur\")"
   ]
  },
  {
   "cell_type": "code",
   "execution_count": 11,
   "metadata": {},
   "outputs": [
    {
     "name": "stdout",
     "output_type": "stream",
     "text": [
      "Java\n",
      "Ranjit Singh\n",
      "Arushi Mathur\n"
     ]
    }
   ],
   "source": [
    "myobj.show_data()"
   ]
  },
  {
   "cell_type": "code",
   "execution_count": 69,
   "metadata": {},
   "outputs": [
    {
     "data": {
      "text/plain": [
       "'Computer science'"
      ]
     },
     "execution_count": 69,
     "metadata": {},
     "output_type": "execute_result"
    }
   ],
   "source": [
    "myobj.Faculty_course"
   ]
  },
  {
   "cell_type": "code",
   "execution_count": 70,
   "metadata": {},
   "outputs": [
    {
     "data": {
      "text/plain": [
       "'Arushi Mathur'"
      ]
     },
     "execution_count": 70,
     "metadata": {},
     "output_type": "execute_result"
    }
   ],
   "source": [
    "myobj.Faculty_student_name"
   ]
  },
  {
   "cell_type": "code",
   "execution_count": 71,
   "metadata": {},
   "outputs": [
    {
     "data": {
      "text/plain": [
       "'Ranjit Singh'"
      ]
     },
     "execution_count": 71,
     "metadata": {},
     "output_type": "execute_result"
    }
   ],
   "source": [
    "myobj.Faculty_teacher_name"
   ]
  },
  {
   "cell_type": "code",
   "execution_count": 14,
   "metadata": {},
   "outputs": [],
   "source": [
    "class Hotel:\n",
    "    hotel_name=\"Ananta\"\n",
    "    def __init__(self,room,rating,location):\n",
    "        self.hotel_room=room\n",
    "        self.hotel_rating=rating\n",
    "        self.hotel_location=location\n",
    "    def show_data(self):\n",
    "        print(self.hotel_room)\n",
    "        print(self.hotel_rating)\n",
    "        print(self.hotel_location)"
   ]
  },
  {
   "cell_type": "code",
   "execution_count": 15,
   "metadata": {},
   "outputs": [],
   "source": [
    "myobj=Hotel(room='101',rating=\"5 stars\",location='Ajmer')\n"
   ]
  },
  {
   "cell_type": "code",
   "execution_count": 17,
   "metadata": {},
   "outputs": [
    {
     "name": "stdout",
     "output_type": "stream",
     "text": [
      "101\n",
      "5 stars\n",
      "Ajmer\n"
     ]
    }
   ],
   "source": [
    "myobj.show_data()\n"
   ]
  },
  {
   "cell_type": "code",
   "execution_count": 95,
   "metadata": {},
   "outputs": [
    {
     "data": {
      "text/plain": [
       "'Ananta'"
      ]
     },
     "execution_count": 95,
     "metadata": {},
     "output_type": "execute_result"
    }
   ],
   "source": [
    "myobj.hotel_name"
   ]
  },
  {
   "cell_type": "code",
   "execution_count": 96,
   "metadata": {},
   "outputs": [
    {
     "data": {
      "text/plain": [
       "'Ajmer'"
      ]
     },
     "execution_count": 96,
     "metadata": {},
     "output_type": "execute_result"
    }
   ],
   "source": [
    "myobj.hotel_location"
   ]
  },
  {
   "cell_type": "code",
   "execution_count": 12,
   "metadata": {},
   "outputs": [
    {
     "ename": "AttributeError",
     "evalue": "'Student' object has no attribute 'hotel_rating'",
     "output_type": "error",
     "traceback": [
      "\u001b[1;31m---------------------------------------------------------------------------\u001b[0m",
      "\u001b[1;31mAttributeError\u001b[0m                            Traceback (most recent call last)",
      "Cell \u001b[1;32mIn[12], line 1\u001b[0m\n\u001b[1;32m----> 1\u001b[0m \u001b[43mmyobj\u001b[49m\u001b[38;5;241;43m.\u001b[39;49m\u001b[43mhotel_rating\u001b[49m\n",
      "\u001b[1;31mAttributeError\u001b[0m: 'Student' object has no attribute 'hotel_rating'"
     ]
    }
   ],
   "source": [
    "myobj.hotel_rating"
   ]
  },
  {
   "cell_type": "code",
   "execution_count": 23,
   "metadata": {},
   "outputs": [],
   "source": [
    "class Student:\n",
    "    college_name=\"IET Lucknow\"\n",
    "    def __init__(self,name,branch,ls_of_subject):\n",
    "        self.student_name=name\n",
    "        self.branch=branch\n",
    "        self.subject=ls_of_subject\n",
    "    def display(self):\n",
    "        print(\"my branch\",self.branch)\n",
    "        print(\"my name\",self.student_name)\n",
    "        print(\"my subject\",self.college_name)\n",
    "        print(self.college_name)\n",
    "    @classmethod #decorator\n",
    "    def display2(cls): #cls refers to class\n",
    "        print(\"my college name is:\",cls.college_name)\n",
    "    @staticmethod\n",
    "    def display3(college_name): \n",
    "        print(\"mycollege name is:\",college_name)\n",
    "        \n",
    "        "
   ]
  },
  {
   "cell_type": "code",
   "execution_count": 24,
   "metadata": {},
   "outputs": [],
   "source": [
    "myobj=Student(name=\"Arushi\",branch=\"cse\",ls_of_subject=['physics','math','chemistry'])\n"
   ]
  },
  {
   "cell_type": "code",
   "execution_count": 25,
   "metadata": {},
   "outputs": [
    {
     "name": "stdout",
     "output_type": "stream",
     "text": [
      "mycollege name is: gweca\n"
     ]
    }
   ],
   "source": [
    "myobj.display3(\"gweca\") #using object"
   ]
  },
  {
   "cell_type": "code",
   "execution_count": 20,
   "metadata": {},
   "outputs": [
    {
     "name": "stdout",
     "output_type": "stream",
     "text": [
      "my college name is: IET Lucknow\n"
     ]
    }
   ],
   "source": [
    "Student.display2() #using class name"
   ]
  },
  {
   "cell_type": "code",
   "execution_count": 31,
   "metadata": {},
   "outputs": [],
   "source": [
    "#inheritance\n",
    "class Faculty:\n",
    "    college_name=\"IET Lucknow\"\n",
    "    total_staff= 200\n",
    "       \n",
    "class Student(Faculty):\n",
    "    total_student=5000\n",
    "    branch='cse'\n",
    "    "
   ]
  },
  {
   "cell_type": "code",
   "execution_count": 27,
   "metadata": {},
   "outputs": [
    {
     "ename": "SyntaxError",
     "evalue": "invalid syntax (1759072681.py, line 2)",
     "output_type": "error",
     "traceback": [
      "\u001b[1;36m  Cell \u001b[1;32mIn[27], line 2\u001b[1;36m\u001b[0m\n\u001b[1;33m    faculty_obj.\u001b[0m\n\u001b[1;37m                ^\u001b[0m\n\u001b[1;31mSyntaxError\u001b[0m\u001b[1;31m:\u001b[0m invalid syntax\n"
     ]
    }
   ],
   "source": [
    "faculty_obj=Faculty()\n",
    "faculty_obj."
   ]
  },
  {
   "cell_type": "code",
   "execution_count": 32,
   "metadata": {},
   "outputs": [
    {
     "data": {
      "text/plain": [
       "'IET Lucknow'"
      ]
     },
     "execution_count": 32,
     "metadata": {},
     "output_type": "execute_result"
    }
   ],
   "source": [
    "student_obj=Student()\n",
    "student_obj.college_name"
   ]
  },
  {
   "cell_type": "code",
   "execution_count": 73,
   "metadata": {},
   "outputs": [],
   "source": [
    "class Father:\n",
    "    def __init__(self,Name,age):\n",
    "        self.father_name=Name\n",
    "        self.father_age=age\n",
    "    def display1(self):\n",
    "        print(self.father_name)\n",
    "        print(self.father_age)\n",
    "        \n",
    "class Son(Father):\n",
    "    \n",
    "    def __init__(self,son_name,son_age,Name,age):\n",
    "        self.son_name=son_name\n",
    "        self.son_age=son_age\n",
    "        super().__init__(Name,age)\n",
    "    def display(self):\n",
    "        print(self.son_name)\n",
    "        print(self.son_age)\n",
    "        "
   ]
  },
  {
   "cell_type": "code",
   "execution_count": 61,
   "metadata": {},
   "outputs": [],
   "source": [
    "myobj=Father(Name=\"J.N Mathur\",age=42)"
   ]
  },
  {
   "cell_type": "code",
   "execution_count": 62,
   "metadata": {},
   "outputs": [
    {
     "name": "stdout",
     "output_type": "stream",
     "text": [
      "J.N Mathur\n",
      "42\n"
     ]
    }
   ],
   "source": [
    "myobj.display()"
   ]
  },
  {
   "cell_type": "code",
   "execution_count": 74,
   "metadata": {},
   "outputs": [],
   "source": [
    "myobj=Son(son_name=\"Shubh\",son_age=18,Name=\"J.N Mathur\",age=42)"
   ]
  },
  {
   "cell_type": "code",
   "execution_count": 76,
   "metadata": {},
   "outputs": [
    {
     "name": "stdout",
     "output_type": "stream",
     "text": [
      "Shubh\n",
      "18\n"
     ]
    },
    {
     "data": {
      "text/plain": [
       "<bound method Father.display1 of <__main__.Son object at 0x000001B542F49690>>"
      ]
     },
     "execution_count": 76,
     "metadata": {},
     "output_type": "execute_result"
    }
   ],
   "source": [
    "myobj.display()\n",
    "myobj.display1"
   ]
  },
  {
   "cell_type": "code",
   "execution_count": 80,
   "metadata": {},
   "outputs": [],
   "source": [
    "class Manager:\n",
    "    def __init__(self,manager_id,manager_password):\n",
    "        self.manager_id = manager_id\n",
    "        self.manager_password=manager_password\n",
    "    def display(self):\n",
    "        print(self.manager_id)\n",
    "        print(self.manager_password)\n",
    "class Employee(Manager):\n",
    "    def __init__(self,employee_id,employee_password,manager_id,manager_password):\n",
    "        self.employee_id=employee_id\n",
    "        self.employee_password=employee_password\n",
    "        super().__init__(manager_id,manager_password)\n",
    "    def display1(self):\n",
    "        print(self.employee_id)\n",
    "        print(self.employee_password)\n",
    "    \n",
    "        "
   ]
  },
  {
   "cell_type": "code",
   "execution_count": 81,
   "metadata": {},
   "outputs": [
    {
     "name": "stdout",
     "output_type": "stream",
     "text": [
      "1\n",
      "2\n",
      "1\n",
      "132\n"
     ]
    }
   ],
   "source": [
    "myobj=Employee(employee_id=1,employee_password=132,manager_id=1,manager_password=2)\n",
    "myobj.display()\n",
    "myobj.display1()"
   ]
  },
  {
   "cell_type": "code",
   "execution_count": 68,
   "metadata": {},
   "outputs": [],
   "source": [
    "class Arushi:\n",
    "    def __init__(self,arushi_id,arushi_password):\n",
    "        self.arushi_id=arushi_id\n",
    "        self.arushi_password=arushi_password\n",
    "    def display(self):\n",
    "        print(self.arushi_id)\n",
    "        print(self.arushi_password)\n",
    "class Nikita(Arushi):\n",
    "    def __init__(self,nikita_id,nikita_password,arushi_id,arushi_password):\n",
    "        self.nikita_id=nikita_id\n",
    "        self.nikita_password=nikita_password\n",
    "        super().__init__(arushi_id,arushi_password)\n",
    "    def display1(self):\n",
    "        print(self.nikita_id)\n",
    "        print(self.nikita_password)\n",
    "        "
   ]
  },
  {
   "cell_type": "code",
   "execution_count": 69,
   "metadata": {},
   "outputs": [
    {
     "name": "stdout",
     "output_type": "stream",
     "text": [
      "1\n",
      "6\n",
      "1\n",
      "3\n"
     ]
    }
   ],
   "source": [
    "myobj=Nikita(nikita_id=1,nikita_password=3,arushi_id=1,arushi_password=6)\n",
    "myobj.display()\n",
    "myobj.display1()"
   ]
  },
  {
   "cell_type": "code",
   "execution_count": null,
   "metadata": {},
   "outputs": [],
   "source": []
  }
 ],
 "metadata": {
  "kernelspec": {
   "display_name": "Python 3",
   "language": "python",
   "name": "python3"
  },
  "language_info": {
   "codemirror_mode": {
    "name": "ipython",
    "version": 3
   },
   "file_extension": ".py",
   "mimetype": "text/x-python",
   "name": "python",
   "nbconvert_exporter": "python",
   "pygments_lexer": "ipython3",
   "version": "3.11.9"
  }
 },
 "nbformat": 4,
 "nbformat_minor": 2
}
